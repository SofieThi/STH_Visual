{
 "cells": [
  {
   "cell_type": "markdown",
   "id": "d0ab761f-7f83-4633-8619-60ba57c62689",
   "metadata": {},
   "source": [
    "## Assignment 3 - Transfer learning + CNN classification"
   ]
  },
  {
   "cell_type": "markdown",
   "id": "f810dd40-68ba-40ac-95d8-ffb7859d5edd",
   "metadata": {},
   "source": [
    "Your .py script should minimally do the following:\n",
    "\n",
    "-Load the CIFAR10 dataset\n",
    "\n",
    "-Use VGG16 to perform feature extraction\n",
    "\n",
    "-Train a classifier\n",
    "\n",
    "-Save plots of the loss and accuracy\n",
    "\n",
    "-Save the classification report"
   ]
  },
  {
   "cell_type": "code",
   "execution_count": 1,
   "id": "6c5f67e6-75b1-4acd-b9bc-a9413c1011c5",
   "metadata": {
    "execution": {
     "iopub.execute_input": "2022-04-24T13:18:52.725297Z",
     "iopub.status.busy": "2022-04-24T13:18:52.724810Z",
     "iopub.status.idle": "2022-04-24T13:18:54.681763Z",
     "shell.execute_reply": "2022-04-24T13:18:54.680741Z",
     "shell.execute_reply.started": "2022-04-24T13:18:52.725247Z"
    },
    "tags": []
   },
   "outputs": [
    {
     "name": "stderr",
     "output_type": "stream",
     "text": [
      "2022-04-24 15:18:52.885738: W tensorflow/stream_executor/platform/default/dso_loader.cc:64] Could not load dynamic library 'libcudart.so.11.0'; dlerror: libcudart.so.11.0: cannot open shared object file: No such file or directory\n",
      "2022-04-24 15:18:52.885770: I tensorflow/stream_executor/cuda/cudart_stub.cc:29] Ignore above cudart dlerror if you do not have a GPU set up on your machine.\n"
     ]
    }
   ],
   "source": [
    "#packages\n",
    "import os\n",
    "\n",
    "# tf tools\n",
    "import tensorflow as tf\n",
    "\n",
    "# image processsing\n",
    "from tensorflow.keras.preprocessing.image import (load_img,\n",
    "                                                  img_to_array,\n",
    "                                                  ImageDataGenerator)\n",
    "# VGG16 model\n",
    "from tensorflow.keras.applications.vgg16 import (preprocess_input,\n",
    "                                                 decode_predictions,\n",
    "                                                 VGG16)\n",
    "# cifar10 data - 32x32\n",
    "from tensorflow.keras.datasets import cifar10\n",
    "\n",
    "# layers\n",
    "from tensorflow.keras.layers import (Flatten, \n",
    "                                     Dense, \n",
    "                                     Dropout, \n",
    "                                     BatchNormalization)\n",
    "# generic model object\n",
    "from tensorflow.keras.models import Model\n",
    "\n",
    "# optimizers\n",
    "from tensorflow.keras.optimizers.schedules import ExponentialDecay\n",
    "from tensorflow.keras.optimizers import SGD\n",
    "\n",
    "#scikit-learn\n",
    "from sklearn.preprocessing import LabelBinarizer\n",
    "from sklearn.metrics import classification_report\n",
    "\n",
    "# for plotting\n",
    "import numpy as np\n",
    "import matplotlib.pyplot as plt"
   ]
  },
  {
   "cell_type": "code",
   "execution_count": 2,
   "id": "202f30d3-3ac3-4c99-8bc4-2d8ec0efcb61",
   "metadata": {
    "execution": {
     "iopub.execute_input": "2022-04-24T13:18:57.164059Z",
     "iopub.status.busy": "2022-04-24T13:18:57.163544Z",
     "iopub.status.idle": "2022-04-24T13:19:06.605888Z",
     "shell.execute_reply": "2022-04-24T13:19:06.604756Z",
     "shell.execute_reply.started": "2022-04-24T13:18:57.164007Z"
    },
    "tags": []
   },
   "outputs": [
    {
     "name": "stdout",
     "output_type": "stream",
     "text": [
      "CIFAR_10 data is being loaded - Please Wait...\n",
      "Downloading data from https://www.cs.toronto.edu/~kriz/cifar-10-python.tar.gz\n",
      "170500096/170498071 [==============================] - 7s 0us/step\n",
      "170508288/170498071 [==============================] - 7s 0us/step\n",
      "CIFAR_10 data has been loaded successfully\n"
     ]
    }
   ],
   "source": [
    "#Loading CIFAR_10\n",
    "#Printing to terminal\n",
    "print(\"CIFAR_10 data is being loaded - Please Wait...\")\n",
    "\n",
    "(X_train, y_train), (X_test, y_test) = cifar10.load_data() #Splitting data up into train and test data. \n",
    "\n",
    "print(\"CIFAR_10 data has been loaded successfully\")"
   ]
  },
  {
   "cell_type": "code",
   "execution_count": 3,
   "id": "3667c34b-868d-40b9-bd28-7da0ad7b5b23",
   "metadata": {
    "execution": {
     "iopub.execute_input": "2022-04-24T13:19:10.670261Z",
     "iopub.status.busy": "2022-04-24T13:19:10.669721Z",
     "iopub.status.idle": "2022-04-24T13:19:11.128677Z",
     "shell.execute_reply": "2022-04-24T13:19:11.127305Z",
     "shell.execute_reply.started": "2022-04-24T13:19:10.670211Z"
    },
    "tags": []
   },
   "outputs": [],
   "source": [
    "#normalize\n",
    "X_train = X_train/255\n",
    "X_test = X_test/255"
   ]
  },
  {
   "cell_type": "code",
   "execution_count": 4,
   "id": "ffa039ea-1817-411d-9019-f18f991efb8a",
   "metadata": {
    "execution": {
     "iopub.execute_input": "2022-04-24T13:19:12.240259Z",
     "iopub.status.busy": "2022-04-24T13:19:12.239075Z",
     "iopub.status.idle": "2022-04-24T13:19:12.268317Z",
     "shell.execute_reply": "2022-04-24T13:19:12.267237Z",
     "shell.execute_reply.started": "2022-04-24T13:19:12.240205Z"
    },
    "tags": []
   },
   "outputs": [],
   "source": [
    "#Binarize labels\n",
    "lb = LabelBinarizer()\n",
    "y_train = lb.fit_transform(y_train) #fitting and transforing to data\n",
    "y_test = lb.fit_transform(y_test)\n",
    "\n",
    "#labels for CIFAR-10 dataset in alphabetical order\n",
    "label_names = [\"airplane\", \"automobile\", \"bird\", \"cat\", \"deer\", \"dog\", \"frog\", \"horse\", \"ship\", \"truck\"]"
   ]
  },
  {
   "cell_type": "code",
   "execution_count": 6,
   "id": "49331fbf-ff15-478e-81a3-4266193b46de",
   "metadata": {
    "execution": {
     "iopub.execute_input": "2022-04-24T13:19:21.787964Z",
     "iopub.status.busy": "2022-04-24T13:19:21.787408Z",
     "iopub.status.idle": "2022-04-24T13:19:21.796333Z",
     "shell.execute_reply": "2022-04-24T13:19:21.794881Z",
     "shell.execute_reply.started": "2022-04-24T13:19:21.787912Z"
    },
    "tags": []
   },
   "outputs": [
    {
     "name": "stdout",
     "output_type": "stream",
     "text": [
      "(50000, 32, 32, 3)\n"
     ]
    }
   ],
   "source": [
    "#Check tensor shape\n",
    "print(X_train.shape) #correct shape: 50000 images, 32x32X3"
   ]
  },
  {
   "cell_type": "code",
   "execution_count": 7,
   "id": "04a52d87-517f-44d3-9f1d-cb9f8fbd4352",
   "metadata": {
    "execution": {
     "iopub.execute_input": "2022-04-24T13:19:27.194027Z",
     "iopub.status.busy": "2022-04-24T13:19:27.193500Z",
     "iopub.status.idle": "2022-04-24T13:19:29.409584Z",
     "shell.execute_reply": "2022-04-24T13:19:29.408239Z",
     "shell.execute_reply.started": "2022-04-24T13:19:27.193975Z"
    },
    "tags": []
   },
   "outputs": [
    {
     "name": "stdout",
     "output_type": "stream",
     "text": [
      "model VGG16 is being loaded - Please Wait...\n",
      "Downloading data from https://storage.googleapis.com/tensorflow/keras-applications/vgg16/vgg16_weights_tf_dim_ordering_tf_kernels_notop.h5\n"
     ]
    },
    {
     "name": "stderr",
     "output_type": "stream",
     "text": [
      "2022-04-24 15:19:27.302946: E tensorflow/stream_executor/cuda/cuda_driver.cc:271] failed call to cuInit: CUDA_ERROR_NO_DEVICE: no CUDA-capable device is detected\n",
      "2022-04-24 15:19:27.302990: I tensorflow/stream_executor/cuda/cuda_diagnostics.cc:156] kernel driver does not appear to be running on this host (j-66621-job-0): /proc/driver/nvidia/version does not exist\n",
      "2022-04-24 15:19:27.303496: I tensorflow/core/platform/cpu_feature_guard.cc:151] This TensorFlow binary is optimized with oneAPI Deep Neural Network Library (oneDNN) to use the following CPU instructions in performance-critical operations:  AVX2 AVX512F FMA\n",
      "To enable them in other operations, rebuild TensorFlow with the appropriate compiler flags.\n"
     ]
    },
    {
     "name": "stdout",
     "output_type": "stream",
     "text": [
      "58892288/58889256 [==============================] - 1s 0us/step\n",
      "58900480/58889256 [==============================] - 1s 0us/step\n"
     ]
    }
   ],
   "source": [
    "# load and initilize VGG16\n",
    "#Printing to terminal\n",
    "print(\"model VGG16 is being loaded - Please Wait...\")\n",
    "model = VGG16(include_top = False, \n",
    "              pooling = \"avg\", #pooling layer\n",
    "              input_shape = (32,32,3))#change input shape"
   ]
  },
  {
   "cell_type": "code",
   "execution_count": 8,
   "id": "b8b4ad25-e06b-41d7-861e-0739bf20a919",
   "metadata": {
    "execution": {
     "iopub.execute_input": "2022-04-24T13:19:35.600020Z",
     "iopub.status.busy": "2022-04-24T13:19:35.599487Z",
     "iopub.status.idle": "2022-04-24T13:19:35.608916Z",
     "shell.execute_reply": "2022-04-24T13:19:35.607350Z",
     "shell.execute_reply.started": "2022-04-24T13:19:35.599971Z"
    },
    "tags": []
   },
   "outputs": [],
   "source": [
    "#Disable training of Conv layers\n",
    "#disable while training - stay intact during training or else no transfer learning. \n",
    "#if it updates it defeats the purpose\n",
    "for layer in model.layers:\n",
    "    layer.trainable = False"
   ]
  },
  {
   "cell_type": "code",
   "execution_count": 10,
   "id": "f8b4ac91-5836-4344-961f-3dc6d54e4c2e",
   "metadata": {
    "execution": {
     "iopub.execute_input": "2022-04-24T13:19:49.297591Z",
     "iopub.status.busy": "2022-04-24T13:19:49.297075Z",
     "iopub.status.idle": "2022-04-24T13:19:49.342559Z",
     "shell.execute_reply": "2022-04-24T13:19:49.341649Z",
     "shell.execute_reply.started": "2022-04-24T13:19:49.297541Z"
    },
    "tags": []
   },
   "outputs": [
    {
     "name": "stdout",
     "output_type": "stream",
     "text": [
      "Model: \"vgg16\"\n",
      "_________________________________________________________________\n",
      " Layer (type)                Output Shape              Param #   \n",
      "=================================================================\n",
      " input_1 (InputLayer)        [(None, 32, 32, 3)]       0         \n",
      "                                                                 \n",
      " block1_conv1 (Conv2D)       (None, 32, 32, 64)        1792      \n",
      "                                                                 \n",
      " block1_conv2 (Conv2D)       (None, 32, 32, 64)        36928     \n",
      "                                                                 \n",
      " block1_pool (MaxPooling2D)  (None, 16, 16, 64)        0         \n",
      "                                                                 \n",
      " block2_conv1 (Conv2D)       (None, 16, 16, 128)       73856     \n",
      "                                                                 \n",
      " block2_conv2 (Conv2D)       (None, 16, 16, 128)       147584    \n",
      "                                                                 \n",
      " block2_pool (MaxPooling2D)  (None, 8, 8, 128)         0         \n",
      "                                                                 \n",
      " block3_conv1 (Conv2D)       (None, 8, 8, 256)         295168    \n",
      "                                                                 \n",
      " block3_conv2 (Conv2D)       (None, 8, 8, 256)         590080    \n",
      "                                                                 \n",
      " block3_conv3 (Conv2D)       (None, 8, 8, 256)         590080    \n",
      "                                                                 \n",
      " block3_pool (MaxPooling2D)  (None, 4, 4, 256)         0         \n",
      "                                                                 \n",
      " block4_conv1 (Conv2D)       (None, 4, 4, 512)         1180160   \n",
      "                                                                 \n",
      " block4_conv2 (Conv2D)       (None, 4, 4, 512)         2359808   \n",
      "                                                                 \n",
      " block4_conv3 (Conv2D)       (None, 4, 4, 512)         2359808   \n",
      "                                                                 \n",
      " block4_pool (MaxPooling2D)  (None, 2, 2, 512)         0         \n",
      "                                                                 \n",
      " block5_conv1 (Conv2D)       (None, 2, 2, 512)         2359808   \n",
      "                                                                 \n",
      " block5_conv2 (Conv2D)       (None, 2, 2, 512)         2359808   \n",
      "                                                                 \n",
      " block5_conv3 (Conv2D)       (None, 2, 2, 512)         2359808   \n",
      "                                                                 \n",
      " block5_pool (MaxPooling2D)  (None, 1, 1, 512)         0         \n",
      "                                                                 \n",
      " global_average_pooling2d (G  (None, 512)              0         \n",
      " lobalAveragePooling2D)                                          \n",
      "                                                                 \n",
      "=================================================================\n",
      "Total params: 14,714,688\n",
      "Trainable params: 0\n",
      "Non-trainable params: 14,714,688\n",
      "_________________________________________________________________\n",
      "None\n"
     ]
    }
   ],
   "source": [
    "print(model.summary())"
   ]
  },
  {
   "cell_type": "code",
   "execution_count": 11,
   "id": "586fb5b7-785c-45b5-8a19-85f2641ae3e7",
   "metadata": {
    "execution": {
     "iopub.execute_input": "2022-04-24T13:19:58.414996Z",
     "iopub.status.busy": "2022-04-24T13:19:58.414447Z",
     "iopub.status.idle": "2022-04-24T13:19:58.447513Z",
     "shell.execute_reply": "2022-04-24T13:19:58.446431Z",
     "shell.execute_reply.started": "2022-04-24T13:19:58.414943Z"
    },
    "tags": []
   },
   "outputs": [],
   "source": [
    "#add new classification layers\n",
    "flat1 = Flatten()(model.layers[-1].output) #flattening layer, output of the last layer of model\n",
    "class1 = Dense(128, activation = \"relu\")(flat1)\n",
    "output = Dense(10, activation = \"softmax\")(class1)"
   ]
  },
  {
   "cell_type": "code",
   "execution_count": 12,
   "id": "3d8232f2-33ea-43af-8444-b0b01f226c8a",
   "metadata": {
    "execution": {
     "iopub.execute_input": "2022-04-24T13:20:00.009012Z",
     "iopub.status.busy": "2022-04-24T13:20:00.008512Z",
     "iopub.status.idle": "2022-04-24T13:20:00.021662Z",
     "shell.execute_reply": "2022-04-24T13:20:00.020813Z",
     "shell.execute_reply.started": "2022-04-24T13:20:00.008963Z"
    },
    "tags": []
   },
   "outputs": [],
   "source": [
    "#adding everything together\n",
    "model = Model(inputs = model.inputs, outputs = output)"
   ]
  },
  {
   "cell_type": "code",
   "execution_count": 13,
   "id": "dec7a9a1-9bd1-445b-8ac8-7b11ee98b77a",
   "metadata": {
    "execution": {
     "iopub.execute_input": "2022-04-24T13:20:02.745320Z",
     "iopub.status.busy": "2022-04-24T13:20:02.744767Z",
     "iopub.status.idle": "2022-04-24T13:20:02.790142Z",
     "shell.execute_reply": "2022-04-24T13:20:02.787610Z",
     "shell.execute_reply.started": "2022-04-24T13:20:02.745268Z"
    },
    "tags": []
   },
   "outputs": [
    {
     "name": "stdout",
     "output_type": "stream",
     "text": [
      "Model: \"model\"\n",
      "_________________________________________________________________\n",
      " Layer (type)                Output Shape              Param #   \n",
      "=================================================================\n",
      " input_1 (InputLayer)        [(None, 32, 32, 3)]       0         \n",
      "                                                                 \n",
      " block1_conv1 (Conv2D)       (None, 32, 32, 64)        1792      \n",
      "                                                                 \n",
      " block1_conv2 (Conv2D)       (None, 32, 32, 64)        36928     \n",
      "                                                                 \n",
      " block1_pool (MaxPooling2D)  (None, 16, 16, 64)        0         \n",
      "                                                                 \n",
      " block2_conv1 (Conv2D)       (None, 16, 16, 128)       73856     \n",
      "                                                                 \n",
      " block2_conv2 (Conv2D)       (None, 16, 16, 128)       147584    \n",
      "                                                                 \n",
      " block2_pool (MaxPooling2D)  (None, 8, 8, 128)         0         \n",
      "                                                                 \n",
      " block3_conv1 (Conv2D)       (None, 8, 8, 256)         295168    \n",
      "                                                                 \n",
      " block3_conv2 (Conv2D)       (None, 8, 8, 256)         590080    \n",
      "                                                                 \n",
      " block3_conv3 (Conv2D)       (None, 8, 8, 256)         590080    \n",
      "                                                                 \n",
      " block3_pool (MaxPooling2D)  (None, 4, 4, 256)         0         \n",
      "                                                                 \n",
      " block4_conv1 (Conv2D)       (None, 4, 4, 512)         1180160   \n",
      "                                                                 \n",
      " block4_conv2 (Conv2D)       (None, 4, 4, 512)         2359808   \n",
      "                                                                 \n",
      " block4_conv3 (Conv2D)       (None, 4, 4, 512)         2359808   \n",
      "                                                                 \n",
      " block4_pool (MaxPooling2D)  (None, 2, 2, 512)         0         \n",
      "                                                                 \n",
      " block5_conv1 (Conv2D)       (None, 2, 2, 512)         2359808   \n",
      "                                                                 \n",
      " block5_conv2 (Conv2D)       (None, 2, 2, 512)         2359808   \n",
      "                                                                 \n",
      " block5_conv3 (Conv2D)       (None, 2, 2, 512)         2359808   \n",
      "                                                                 \n",
      " block5_pool (MaxPooling2D)  (None, 1, 1, 512)         0         \n",
      "                                                                 \n",
      " global_average_pooling2d (G  (None, 512)              0         \n",
      " lobalAveragePooling2D)                                          \n",
      "                                                                 \n",
      " flatten (Flatten)           (None, 512)               0         \n",
      "                                                                 \n",
      " dense (Dense)               (None, 128)               65664     \n",
      "                                                                 \n",
      " dense_1 (Dense)             (None, 10)                1290      \n",
      "                                                                 \n",
      "=================================================================\n",
      "Total params: 14,781,642\n",
      "Trainable params: 66,954\n",
      "Non-trainable params: 14,714,688\n",
      "_________________________________________________________________\n",
      "None\n"
     ]
    }
   ],
   "source": [
    "#summarize\n",
    "print(model.summary()) #new layers"
   ]
  },
  {
   "cell_type": "code",
   "execution_count": 14,
   "id": "65dc6158-0545-42a5-b5ef-7570890230b7",
   "metadata": {
    "execution": {
     "iopub.execute_input": "2022-04-24T13:20:07.483952Z",
     "iopub.status.busy": "2022-04-24T13:20:07.483403Z",
     "iopub.status.idle": "2022-04-24T13:20:07.492693Z",
     "shell.execute_reply": "2022-04-24T13:20:07.491292Z",
     "shell.execute_reply.started": "2022-04-24T13:20:07.483884Z"
    },
    "tags": []
   },
   "outputs": [],
   "source": [
    "#Compile\n",
    "lr_schedule = tf.keras.optimizers.schedules.ExponentialDecay(\n",
    "    initial_learning_rate=0.01, #start learning quickly\n",
    "    decay_steps=10000, #go down 10000 (big steps)\n",
    "    decay_rate=0.9) #take smaller steps with each epoch: slowing down\n",
    "\n",
    "sgd = SGD(learning_rate= lr_schedule)"
   ]
  },
  {
   "cell_type": "code",
   "execution_count": 15,
   "id": "282e8b74-2d57-4170-aaeb-80c6c699cfbc",
   "metadata": {
    "execution": {
     "iopub.execute_input": "2022-04-24T13:20:09.225557Z",
     "iopub.status.busy": "2022-04-24T13:20:09.224891Z",
     "iopub.status.idle": "2022-04-24T13:20:09.243862Z",
     "shell.execute_reply": "2022-04-24T13:20:09.242876Z",
     "shell.execute_reply.started": "2022-04-24T13:20:09.225504Z"
    },
    "tags": []
   },
   "outputs": [],
   "source": [
    "model.compile(optimizer=sgd,\n",
    "              loss=\"categorical_crossentropy\",\n",
    "              metrics=[\"accuracy\"]) #can change this (look it up)"
   ]
  },
  {
   "cell_type": "code",
   "execution_count": 16,
   "id": "f2a5ed3d-266a-4260-a47f-05451738266e",
   "metadata": {
    "execution": {
     "iopub.execute_input": "2022-04-24T13:20:10.881840Z",
     "iopub.status.busy": "2022-04-24T13:20:10.881332Z",
     "iopub.status.idle": "2022-04-24T13:25:12.003202Z",
     "shell.execute_reply": "2022-04-24T13:25:12.002255Z",
     "shell.execute_reply.started": "2022-04-24T13:20:10.881790Z"
    },
    "tags": []
   },
   "outputs": [
    {
     "name": "stdout",
     "output_type": "stream",
     "text": [
      "[INFO] training model...\n",
      "Epoch 1/10\n",
      "391/391 [==============================] - 31s 79ms/step - loss: 2.0107 - accuracy: 0.2988 - val_loss: 1.8026 - val_accuracy: 0.3893\n",
      "Epoch 2/10\n",
      "391/391 [==============================] - 30s 76ms/step - loss: 1.7055 - accuracy: 0.4236 - val_loss: 1.6455 - val_accuracy: 0.4324\n",
      "Epoch 3/10\n",
      "391/391 [==============================] - 30s 77ms/step - loss: 1.5834 - accuracy: 0.4599 - val_loss: 1.5562 - val_accuracy: 0.4624\n",
      "Epoch 4/10\n",
      "391/391 [==============================] - 30s 77ms/step - loss: 1.5127 - accuracy: 0.4815 - val_loss: 1.5025 - val_accuracy: 0.4779\n",
      "Epoch 5/10\n",
      "391/391 [==============================] - 30s 76ms/step - loss: 1.4646 - accuracy: 0.4968 - val_loss: 1.4650 - val_accuracy: 0.4910\n",
      "Epoch 6/10\n",
      "391/391 [==============================] - 30s 77ms/step - loss: 1.4293 - accuracy: 0.5075 - val_loss: 1.4365 - val_accuracy: 0.4999\n",
      "Epoch 7/10\n",
      "391/391 [==============================] - 30s 76ms/step - loss: 1.4012 - accuracy: 0.5175 - val_loss: 1.4096 - val_accuracy: 0.5078\n",
      "Epoch 8/10\n",
      "391/391 [==============================] - 30s 78ms/step - loss: 1.3780 - accuracy: 0.5232 - val_loss: 1.3884 - val_accuracy: 0.5158\n",
      "Epoch 9/10\n",
      "391/391 [==============================] - 29s 75ms/step - loss: 1.3591 - accuracy: 0.5303 - val_loss: 1.3753 - val_accuracy: 0.5190\n",
      "Epoch 10/10\n",
      "391/391 [==============================] - 30s 76ms/step - loss: 1.3430 - accuracy: 0.5353 - val_loss: 1.3696 - val_accuracy: 0.5188\n"
     ]
    }
   ],
   "source": [
    "#Train model\n",
    "print(\"[INFO] training model...\")\n",
    "H = model.fit(X_train, y_train,\n",
    "              validation_data = (X_test, y_test),\n",
    "              batch_size = 128, #how many images we are looking at at a time\n",
    "              epochs = 10,\n",
    "              verbose = 1) #printed to the screen as it is training"
   ]
  },
  {
   "cell_type": "code",
   "execution_count": 17,
   "id": "cd6fd29f-c246-4db9-af54-d52af462d9f5",
   "metadata": {
    "execution": {
     "iopub.execute_input": "2022-04-24T13:25:13.950009Z",
     "iopub.status.busy": "2022-04-24T13:25:13.949476Z",
     "iopub.status.idle": "2022-04-24T13:25:13.957035Z",
     "shell.execute_reply": "2022-04-24T13:25:13.955990Z",
     "shell.execute_reply.started": "2022-04-24T13:25:13.949958Z"
    },
    "tags": []
   },
   "outputs": [],
   "source": [
    "# make path to output data\n",
    "outpath = os.path.join(\"..\",\"..\",\"cds-visual\",\"Assignments\",\"output\")"
   ]
  },
  {
   "cell_type": "code",
   "execution_count": 18,
   "id": "5325a244-6703-42b6-b865-0093af1d266f",
   "metadata": {
    "execution": {
     "iopub.execute_input": "2022-04-24T13:25:16.762959Z",
     "iopub.status.busy": "2022-04-24T13:25:16.762448Z",
     "iopub.status.idle": "2022-04-24T13:25:16.775620Z",
     "shell.execute_reply": "2022-04-24T13:25:16.774909Z",
     "shell.execute_reply.started": "2022-04-24T13:25:16.762911Z"
    },
    "tags": []
   },
   "outputs": [],
   "source": [
    "#evaluate\n",
    "#Plotting function (from session_9)\n",
    "def plot_history(H, epochs):\n",
    "    plt.style.use(\"seaborn-colorblind\")\n",
    "\n",
    "    plt.figure(figsize=(12,6))\n",
    "    plt.subplot(1,2,1)\n",
    "    plt.plot(np.arange(0, epochs), H.history[\"loss\"], label=\"train_loss\")\n",
    "    plt.plot(np.arange(0, epochs), H.history[\"val_loss\"], label=\"val_loss\", linestyle=\":\")\n",
    "    plt.title(\"Loss curve\")\n",
    "    plt.xlabel(\"Epoch\")\n",
    "    plt.ylabel(\"Loss\")\n",
    "    plt.tight_layout()\n",
    "    plt.legend()\n",
    "\n",
    "    plt.subplot(1,2,2)\n",
    "    plt.plot(np.arange(0, epochs), H.history[\"accuracy\"], label=\"train_acc\")\n",
    "    plt.plot(np.arange(0, epochs), H.history[\"val_accuracy\"], label=\"val_acc\", linestyle=\":\")\n",
    "    plt.title(\"Accuracy curve\")\n",
    "    plt.xlabel(\"Epoch\")\n",
    "    plt.ylabel(\"Accuracy\")\n",
    "    plt.tight_layout()\n",
    "    plt.legend()"
   ]
  },
  {
   "cell_type": "code",
   "execution_count": 23,
   "id": "c5316e21-b579-44eb-99eb-bd1968ab90b2",
   "metadata": {
    "execution": {
     "iopub.execute_input": "2022-04-24T13:26:56.168651Z",
     "iopub.status.busy": "2022-04-24T13:26:56.168131Z",
     "iopub.status.idle": "2022-04-24T13:26:57.004468Z",
     "shell.execute_reply": "2022-04-24T13:26:57.003870Z",
     "shell.execute_reply.started": "2022-04-24T13:26:56.168603Z"
    },
    "tags": []
   },
   "outputs": [
    {
     "data": {
      "image/png": "[encoded data removed]",
      "text/plain": [
       "<Figure size 864x432 with 2 Axes>"
      ]
     },
     "metadata": {
      "needs_background": "light"
     },
     "output_type": "display_data"
    },
    {
     "name": "stdout",
     "output_type": "stream",
     "text": [
      "Done! Plots are generated and saved in the output folder as plots_assign_3.png\n"
     ]
    }
   ],
   "source": [
    "#generate and save the plots of the loss and accuracy to a specific folder\n",
    "plot_history(H,10)\n",
    "plt.savefig(outpath + \"/\" + \"plots_assign_3.png\", dpi=300, bbox_inches='tight')\n",
    "plt.show()\n",
    "\n",
    "print(\"Done! Plots are generated and saved in the output folder as plots_assign_3.png\")"
   ]
  },
  {
   "cell_type": "code",
   "execution_count": 24,
   "id": "14a536ff-206d-4914-a6b0-a73152d3f9d6",
   "metadata": {
    "execution": {
     "iopub.execute_input": "2022-04-24T13:27:09.869389Z",
     "iopub.status.busy": "2022-04-24T13:27:09.868882Z",
     "iopub.status.idle": "2022-04-24T13:27:15.187409Z",
     "shell.execute_reply": "2022-04-24T13:27:15.186714Z",
     "shell.execute_reply.started": "2022-04-24T13:27:09.869341Z"
    },
    "tags": []
   },
   "outputs": [
    {
     "name": "stdout",
     "output_type": "stream",
     "text": [
      "              precision    recall  f1-score   support\n",
      "\n",
      "    airplane       0.60      0.55      0.57      1000\n",
      "  automobile       0.53      0.62      0.57      1000\n",
      "        bird       0.42      0.40      0.41      1000\n",
      "         cat       0.36      0.45      0.40      1000\n",
      "        deer       0.47      0.54      0.51      1000\n",
      "         dog       0.59      0.36      0.45      1000\n",
      "        frog       0.63      0.56      0.59      1000\n",
      "       horse       0.59      0.54      0.56      1000\n",
      "        ship       0.54      0.72      0.62      1000\n",
      "       truck       0.55      0.44      0.49      1000\n",
      "\n",
      "    accuracy                           0.52     10000\n",
      "   macro avg       0.53      0.52      0.52     10000\n",
      "weighted avg       0.53      0.52      0.52     10000\n",
      "\n"
     ]
    }
   ],
   "source": [
    "predictions = model.predict(X_test, batch_size = 128)\n",
    "\n",
    "report = (classification_report(y_test.argmax(axis=1),\n",
    "                            predictions.argmax(axis=1), #return the biggest value of the predictions\n",
    "                            target_names= label_names))\n",
    "print(report) #print classification report"
   ]
  },
  {
   "cell_type": "code",
   "execution_count": 26,
   "id": "fe107b2b-8bf8-475e-bc92-dfbebac0fefa",
   "metadata": {
    "execution": {
     "iopub.execute_input": "2022-04-24T13:27:24.806674Z",
     "iopub.status.busy": "2022-04-24T13:27:24.806080Z",
     "iopub.status.idle": "2022-04-24T13:27:24.816615Z",
     "shell.execute_reply": "2022-04-24T13:27:24.815325Z",
     "shell.execute_reply.started": "2022-04-24T13:27:24.806624Z"
    },
    "tags": []
   },
   "outputs": [
    {
     "name": "stdout",
     "output_type": "stream",
     "text": [
      "Done! Report has been generated and saved in the output folder as classification_assign_3.txt\n"
     ]
    }
   ],
   "source": [
    "#Save the classification report\n",
    "g = open(\"../../cds-visual/Assignments/output/classification_assign_3.txt\",'w')\n",
    "print(report, file=g)\n",
    "\n",
    "print(\"Done! Report has been generated and saved in the output folder as classification_assign_3.txt\")"
   ]
  }
 ],
 "metadata": {
  "kernelspec": {
   "display_name": "Python 3 ",
   "language": "python",
   "name": "python3"
  },
  "language_info": {
   "codemirror_mode": {
    "name": "ipython",
    "version": 3
   },
   "file_extension": ".py",
   "mimetype": "text/x-python",
   "name": "python",
   "nbconvert_exporter": "python",
   "pygments_lexer": "ipython3",
   "version": "3.9.6"
  }
 },
 "nbformat": 4,
 "nbformat_minor": 5
}
