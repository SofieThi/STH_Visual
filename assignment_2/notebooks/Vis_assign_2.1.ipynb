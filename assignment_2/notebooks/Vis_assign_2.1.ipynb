{
 "cells": [
  {
   "cell_type": "markdown",
   "id": "623af1ff-f267-43d9-9d4e-12e095a36e23",
   "metadata": {
    "tags": []
   },
   "source": [
    "# Neural Network model"
   ]
  },
  {
   "cell_type": "markdown",
   "id": "de56cf34-7302-41a4-8b7e-2ade4f99ec2b",
   "metadata": {},
   "source": [
    "Another scripts should be called nn_classifier.py and should do the following:\n",
    "\n",
    "Load either the MNIST_784 data or the CIFAR_10 data\n",
    "\n",
    "Train a Neural Network model using the premade module in neuralnetwork.py\n",
    "\n",
    "Print output to the terminal during training showing epochs and loss\n",
    "\n",
    "Print the classification report to the terminal and save the classification report to out/nn_report.txt"
   ]
  },
  {
   "cell_type": "code",
   "execution_count": 17,
   "id": "6f16f9f5-3c5e-4999-bf92-36691a62aab1",
   "metadata": {
    "execution": {
     "iopub.execute_input": "2022-04-28T13:12:03.214313Z",
     "iopub.status.busy": "2022-04-28T13:12:03.213801Z",
     "iopub.status.idle": "2022-04-28T13:12:03.223285Z",
     "shell.execute_reply": "2022-04-28T13:12:03.222228Z",
     "shell.execute_reply.started": "2022-04-28T13:12:03.214264Z"
    },
    "tags": []
   },
   "outputs": [],
   "source": [
    "#session_7\n",
    "# path tools\n",
    "import sys,os\n",
    "sys.path.append(os.path.join(\"..\", \"..\", \"CDS-VIS\"))\n",
    "\n",
    "# image processing\n",
    "import cv2\n",
    "\n",
    "# neural networks with numpy\n",
    "import numpy as np\n",
    "from tensorflow.keras.datasets import cifar10 #getting access to complex tools\n",
    "# cifar10: very famous dataset with low res images for training (0 is airplane) \n",
    "# https://keras.io/api/datasets/cifar10/ (32, 32, 3) 32x32 3 color channels\n",
    "from utils.neuralnetwork import NeuralNetwork #Ross has written it see utils\n",
    "\n",
    "# machine learning tools\n",
    "from sklearn.preprocessing import LabelBinarizer\n",
    "from sklearn.model_selection import train_test_split\n",
    "from sklearn.metrics import classification_report"
   ]
  },
  {
   "cell_type": "code",
   "execution_count": null,
   "id": "3226e7a4-0e0e-426f-a00b-dd56f8f19e27",
   "metadata": {},
   "outputs": [],
   "source": [
    "#from + terminal\n",
    "# its not in setup currently\n",
    "# pip install tensorflow"
   ]
  },
  {
   "cell_type": "code",
   "execution_count": 18,
   "id": "35bc2f24-a0ae-45da-a6f5-5d3bbf521698",
   "metadata": {
    "execution": {
     "iopub.execute_input": "2022-04-28T13:12:04.793473Z",
     "iopub.status.busy": "2022-04-28T13:12:04.792965Z",
     "iopub.status.idle": "2022-04-28T13:12:05.383569Z",
     "shell.execute_reply": "2022-04-28T13:12:05.382982Z",
     "shell.execute_reply.started": "2022-04-28T13:12:04.793422Z"
    },
    "tags": []
   },
   "outputs": [
    {
     "name": "stdout",
     "output_type": "stream",
     "text": [
      "Loading the cifar10 data\n",
      "cifar10 data has been loaded successfully\n"
     ]
    }
   ],
   "source": [
    "#Loading cifar10 data\n",
    "print(\"Loading the cifar10 data\")\n",
    "(X_train, y_train), (X_test, y_test) = cifar10.load_data()\n",
    "print(\"cifar10 data has been loaded successfully\")"
   ]
  },
  {
   "cell_type": "code",
   "execution_count": 19,
   "id": "bd2cdb11-3dfa-4914-9fd2-b4a8d7115ed7",
   "metadata": {
    "execution": {
     "iopub.execute_input": "2022-04-28T13:13:00.702678Z",
     "iopub.status.busy": "2022-04-28T13:13:00.701954Z",
     "iopub.status.idle": "2022-04-28T13:13:01.222832Z",
     "shell.execute_reply": "2022-04-28T13:13:01.221913Z",
     "shell.execute_reply.started": "2022-04-28T13:13:00.702625Z"
    },
    "tags": []
   },
   "outputs": [],
   "source": [
    "#Convert all the data to greyscale\n",
    "X_train_grey = np.array([cv2.cvtColor(image, cv2.COLOR_BGR2GRAY) for image in X_train])\n",
    "X_test_grey = np.array([cv2.cvtColor(image, cv2.COLOR_BGR2GRAY) for image in X_test])"
   ]
  },
  {
   "cell_type": "code",
   "execution_count": 20,
   "id": "576f6894-8aff-4457-96f2-522fc8b76f66",
   "metadata": {
    "execution": {
     "iopub.execute_input": "2022-04-28T13:13:01.713525Z",
     "iopub.status.busy": "2022-04-28T13:13:01.713045Z",
     "iopub.status.idle": "2022-04-28T13:13:02.016674Z",
     "shell.execute_reply": "2022-04-28T13:13:02.015599Z",
     "shell.execute_reply.started": "2022-04-28T13:13:01.713475Z"
    },
    "tags": []
   },
   "outputs": [],
   "source": [
    "##Normalize the values\n",
    "#min/max normalization: X1 = X(array)-Xmin (minimum value in array)/Xmax-Xmin\n",
    "# function that performs min/max\n",
    "def minmax(data):\n",
    "    X_norm = (data - data.min())/(data.max() - data.min())\n",
    "    return X_norm\n",
    "X_train_scaled = minmax(X_train_grey)\n",
    "X_test_scaled = minmax(X_test_grey)"
   ]
  },
  {
   "cell_type": "code",
   "execution_count": 21,
   "id": "5461bdeb-cc1b-4f3c-ae09-ca0178d1db98",
   "metadata": {
    "execution": {
     "iopub.execute_input": "2022-04-28T13:13:02.835667Z",
     "iopub.status.busy": "2022-04-28T13:13:02.835012Z",
     "iopub.status.idle": "2022-04-28T13:13:02.843498Z",
     "shell.execute_reply": "2022-04-28T13:13:02.842294Z",
     "shell.execute_reply.started": "2022-04-28T13:13:02.835613Z"
    },
    "tags": []
   },
   "outputs": [],
   "source": [
    "#Reshaping the data\n",
    "nsamples, nx, ny = X_train_scaled.shape\n",
    "X_train_dataset = X_train_scaled.reshape((nsamples,nx*ny))\n",
    "nsamples, nx, ny = X_test_scaled.shape\n",
    "X_test_dataset = X_test_scaled.reshape((nsamples,nx*ny))"
   ]
  },
  {
   "cell_type": "code",
   "execution_count": 22,
   "id": "91243f08-d82f-4856-9f13-519733bc7161",
   "metadata": {
    "execution": {
     "iopub.execute_input": "2022-04-28T13:13:05.759963Z",
     "iopub.status.busy": "2022-04-28T13:13:05.759449Z",
     "iopub.status.idle": "2022-04-28T13:13:05.783458Z",
     "shell.execute_reply": "2022-04-28T13:13:05.782805Z",
     "shell.execute_reply.started": "2022-04-28T13:13:05.759913Z"
    },
    "tags": []
   },
   "outputs": [],
   "source": [
    "##Neural network classifier\n",
    "#do something else with the labels: binarizing the labels (0 and 1s)\n",
    "y_train = LabelBinarizer().fit_transform(y_train) #fit data to dimensions of labels\n",
    "#then convert to 0 and 1s like above\n",
    "\n",
    "y_test = LabelBinarizer().fit_transform(y_test) #test data as well"
   ]
  },
  {
   "cell_type": "code",
   "execution_count": 23,
   "id": "b1e0e1d5-8b83-4f52-8fcb-232d99705b25",
   "metadata": {
    "execution": {
     "iopub.execute_input": "2022-04-28T13:13:06.963597Z",
     "iopub.status.busy": "2022-04-28T13:13:06.963113Z",
     "iopub.status.idle": "2022-04-28T13:15:36.369448Z",
     "shell.execute_reply": "2022-04-28T13:15:36.368211Z",
     "shell.execute_reply.started": "2022-04-28T13:13:06.963548Z"
    },
    "tags": []
   },
   "outputs": [
    {
     "name": "stdout",
     "output_type": "stream",
     "text": [
      "[INFO] training network...\n",
      "[INFO] NeuralNetwork: 1024-64-10\n",
      "[INFO] epoch=1, loss=20219.3195598\n",
      "[INFO] epoch=2, loss=19744.7874314\n",
      "[INFO] epoch=3, loss=19540.5810706\n",
      "[INFO] epoch=4, loss=19416.8952840\n",
      "[INFO] epoch=5, loss=19225.8415307\n",
      "[INFO] epoch=6, loss=19143.0684146\n",
      "[INFO] epoch=7, loss=19080.4183455\n",
      "[INFO] epoch=8, loss=18864.9554054\n",
      "[INFO] epoch=9, loss=18646.3917175\n",
      "[INFO] epoch=10, loss=18584.2654216\n"
     ]
    }
   ],
   "source": [
    "print(\"[INFO] training network...\") #feedback on what the model is doing\n",
    "input_shape = X_train_dataset.shape[1]\n",
    "nn = NeuralNetwork([input_shape, 64, 10]) #neural network, hidden layer of 64 nodes, \n",
    "#output layer of 10 (airplane etc.)\n",
    "#can add two hidden layers like input_shape, 128, 32, 10\n",
    "print(f\"[INFO] {nn}\")\n",
    "nn.fit(X_train_dataset, y_train, epochs=10, displayUpdate=1) #a full pass over dataset: getting update\n",
    "#after each epoch, the loss function gets lower and lower = learning every time\n",
    "#should be rapid fall then slower and slower"
   ]
  },
  {
   "cell_type": "code",
   "execution_count": 27,
   "id": "8a7a28a2-cbfd-49f2-be8a-f6392696430f",
   "metadata": {
    "execution": {
     "iopub.execute_input": "2022-04-28T13:17:00.038868Z",
     "iopub.status.busy": "2022-04-28T13:17:00.038174Z",
     "iopub.status.idle": "2022-04-28T13:17:00.104068Z",
     "shell.execute_reply": "2022-04-28T13:17:00.102418Z",
     "shell.execute_reply.started": "2022-04-28T13:17:00.038815Z"
    },
    "tags": []
   },
   "outputs": [],
   "source": [
    "predictions = nn.predict(X_test_dataset)"
   ]
  },
  {
   "cell_type": "code",
   "execution_count": 28,
   "id": "e5eead86-ec9a-43f3-a605-9ee14af1ebd8",
   "metadata": {
    "execution": {
     "iopub.execute_input": "2022-04-28T13:17:01.253867Z",
     "iopub.status.busy": "2022-04-28T13:17:01.253350Z",
     "iopub.status.idle": "2022-04-28T13:17:01.261558Z",
     "shell.execute_reply": "2022-04-28T13:17:01.260549Z",
     "shell.execute_reply.started": "2022-04-28T13:17:01.253818Z"
    },
    "tags": []
   },
   "outputs": [
    {
     "name": "stdout",
     "output_type": "stream",
     "text": [
      "Generating report...\n"
     ]
    }
   ],
   "source": [
    "labels = [\"airplane\", \"automobile\", \"bird\", \"cat\", \"deer\", \"dog\", \"frog\", \"horse\", \"ship\", \"truck\"] \n",
    "#labels from the webpage\n",
    "\n",
    "print(\"Generating report...\")"
   ]
  },
  {
   "cell_type": "code",
   "execution_count": 29,
   "id": "34a1ffaa-885f-4625-972e-b7cea08a2fe0",
   "metadata": {
    "execution": {
     "iopub.execute_input": "2022-04-28T13:17:04.202041Z",
     "iopub.status.busy": "2022-04-28T13:17:04.201368Z",
     "iopub.status.idle": "2022-04-28T13:17:04.237557Z",
     "shell.execute_reply": "2022-04-28T13:17:04.236884Z",
     "shell.execute_reply.started": "2022-04-28T13:17:04.201991Z"
    },
    "tags": []
   },
   "outputs": [
    {
     "name": "stdout",
     "output_type": "stream",
     "text": [
      "              precision    recall  f1-score   support\n",
      "\n",
      "    airplane       0.56      0.22      0.31      1000\n",
      "  automobile       0.42      0.51      0.46      1000\n",
      "        bird       0.32      0.23      0.27      1000\n",
      "         cat       0.28      0.29      0.28      1000\n",
      "        deer       0.29      0.42      0.34      1000\n",
      "         dog       0.46      0.26      0.33      1000\n",
      "        frog       0.41      0.36      0.38      1000\n",
      "       horse       0.37      0.52      0.43      1000\n",
      "        ship       0.39      0.62      0.48      1000\n",
      "       truck       0.51      0.36      0.42      1000\n",
      "\n",
      "    accuracy                           0.38     10000\n",
      "   macro avg       0.40      0.38      0.37     10000\n",
      "weighted avg       0.40      0.38      0.37     10000\n",
      "\n",
      "Done! Report has been generated and saved in the output folder as nn_report.txt\n"
     ]
    }
   ],
   "source": [
    "y_pred = predictions.argmax(axis=1)\n",
    "report = classification_report(y_test.argmax(axis=1), y_pred, target_names = labels)\n",
    "\n",
    "print(report)\n",
    "\n",
    "g = open(\"../../cds-visual/Assignments/output/nn_report.txt\",'w')\n",
    "print(report, file=g)\n",
    "\n",
    "print(\"Done! Report has been generated and saved in the output folder as nn_report.txt\")"
   ]
  }
 ],
 "metadata": {
  "kernelspec": {
   "display_name": "Python 3 ",
   "language": "python",
   "name": "python3"
  },
  "language_info": {
   "codemirror_mode": {
    "name": "ipython",
    "version": 3
   },
   "file_extension": ".py",
   "mimetype": "text/x-python",
   "name": "python",
   "nbconvert_exporter": "python",
   "pygments_lexer": "ipython3",
   "version": "3.9.6"
  }
 },
 "nbformat": 4,
 "nbformat_minor": 5
}
