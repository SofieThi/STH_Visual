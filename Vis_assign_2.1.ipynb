{
 "cells": [
  {
   "cell_type": "markdown",
   "id": "623af1ff-f267-43d9-9d4e-12e095a36e23",
   "metadata": {},
   "source": [
    "# Neural Network model"
   ]
  },
  {
   "cell_type": "code",
   "execution_count": 2,
   "id": "6f16f9f5-3c5e-4999-bf92-36691a62aab1",
   "metadata": {
    "execution": {
     "iopub.execute_input": "2022-03-28T18:29:26.574833Z",
     "iopub.status.busy": "2022-03-28T18:29:26.574317Z",
     "iopub.status.idle": "2022-03-28T18:29:28.656254Z",
     "shell.execute_reply": "2022-03-28T18:29:28.655520Z",
     "shell.execute_reply.started": "2022-03-28T18:29:26.574777Z"
    },
    "tags": []
   },
   "outputs": [
    {
     "name": "stderr",
     "output_type": "stream",
     "text": [
      "2022-03-28 20:29:26.711639: W tensorflow/stream_executor/platform/default/dso_loader.cc:64] Could not load dynamic library 'libcudart.so.11.0'; dlerror: libcudart.so.11.0: cannot open shared object file: No such file or directory; LD_LIBRARY_PATH: /opt/conda/lib/python3.9/site-packages/cv2/../../lib64:\n",
      "2022-03-28 20:29:26.711673: I tensorflow/stream_executor/cuda/cudart_stub.cc:29] Ignore above cudart dlerror if you do not have a GPU set up on your machine.\n"
     ]
    }
   ],
   "source": [
    "#session_7\n",
    "# path tools\n",
    "import sys,os\n",
    "sys.path.append(os.path.join(\"..\", \"..\", \"CDS-VIS\"))\n",
    "\n",
    "# image processing\n",
    "import cv2\n",
    "\n",
    "# neural networks with numpy\n",
    "import numpy as np\n",
    "from tensorflow.keras.datasets import cifar10 #getting access to complex tools\n",
    "# cifar10: very famous dataset with low res images for training (0 is airplane) \n",
    "# https://keras.io/api/datasets/cifar10/ (32, 32, 3) 32x32 3 color channels\n",
    "from utils.neuralnetwork import NeuralNetwork #Ross has written it see utils\n",
    "\n",
    "# machine learning tools\n",
    "from sklearn.preprocessing import LabelBinarizer\n",
    "from sklearn.model_selection import train_test_split\n",
    "from sklearn.metrics import classification_report\n",
    "from sklearn.linear_model import LogisticRegression"
   ]
  },
  {
   "cell_type": "code",
   "execution_count": null,
   "id": "3226e7a4-0e0e-426f-a00b-dd56f8f19e27",
   "metadata": {},
   "outputs": [],
   "source": [
    "#from + terminal\n",
    "# its not in setup currently\n",
    "# pip install tensorflow"
   ]
  },
  {
   "cell_type": "code",
   "execution_count": 4,
   "id": "35bc2f24-a0ae-45da-a6f5-5d3bbf521698",
   "metadata": {
    "execution": {
     "iopub.execute_input": "2022-03-28T18:30:50.456174Z",
     "iopub.status.busy": "2022-03-28T18:30:50.455617Z",
     "iopub.status.idle": "2022-03-28T18:30:51.181317Z",
     "shell.execute_reply": "2022-03-28T18:30:51.180590Z",
     "shell.execute_reply.started": "2022-03-28T18:30:50.456129Z"
    },
    "tags": []
   },
   "outputs": [
    {
     "name": "stdout",
     "output_type": "stream",
     "text": [
      "Loading the cifar10 data\n",
      "cifar10 data has been loaded successfully\n"
     ]
    }
   ],
   "source": [
    "#Loading cifar10 data\n",
    "print(\"Loading the cifar10 data\")\n",
    "(X_train, y_train), (X_test, y_test) = cifar10.load_data()\n",
    "print(\"cifar10 data has been loaded successfully\")"
   ]
  },
  {
   "cell_type": "code",
   "execution_count": 5,
   "id": "bd2cdb11-3dfa-4914-9fd2-b4a8d7115ed7",
   "metadata": {
    "execution": {
     "iopub.execute_input": "2022-03-28T18:30:55.530550Z",
     "iopub.status.busy": "2022-03-28T18:30:55.529917Z",
     "iopub.status.idle": "2022-03-28T18:30:56.221319Z",
     "shell.execute_reply": "2022-03-28T18:30:56.220339Z",
     "shell.execute_reply.started": "2022-03-28T18:30:55.530497Z"
    },
    "tags": []
   },
   "outputs": [],
   "source": [
    "#Convert all the data to greyscale\n",
    "X_train_grey = np.array([cv2.cvtColor(image, cv2.COLOR_BGR2GRAY) for image in X_train])\n",
    "X_test_grey = np.array([cv2.cvtColor(image, cv2.COLOR_BGR2GRAY) for image in X_test])"
   ]
  },
  {
   "cell_type": "code",
   "execution_count": 6,
   "id": "576f6894-8aff-4457-96f2-522fc8b76f66",
   "metadata": {
    "execution": {
     "iopub.execute_input": "2022-03-28T18:30:57.940899Z",
     "iopub.status.busy": "2022-03-28T18:30:57.940394Z",
     "iopub.status.idle": "2022-03-28T18:30:58.300376Z",
     "shell.execute_reply": "2022-03-28T18:30:58.299663Z",
     "shell.execute_reply.started": "2022-03-28T18:30:57.940850Z"
    },
    "tags": []
   },
   "outputs": [],
   "source": [
    "##Normalize the values\n",
    "#min/max normalization: X1 = X(array)-Xmin (minimum value in array)/Xmax-Xmin\n",
    "# function that performs min/max\n",
    "def minmax(data):\n",
    "    X_norm = (data - data.min())/(data.max() - data.min())\n",
    "    return X_norm\n",
    "X_train_scaled = minmax(X_train_grey)\n",
    "X_test_scaled = minmax(X_test_grey)"
   ]
  },
  {
   "cell_type": "code",
   "execution_count": 7,
   "id": "5461bdeb-cc1b-4f3c-ae09-ca0178d1db98",
   "metadata": {
    "execution": {
     "iopub.execute_input": "2022-03-28T18:31:03.320995Z",
     "iopub.status.busy": "2022-03-28T18:31:03.320369Z",
     "iopub.status.idle": "2022-03-28T18:31:03.328822Z",
     "shell.execute_reply": "2022-03-28T18:31:03.327641Z",
     "shell.execute_reply.started": "2022-03-28T18:31:03.320944Z"
    },
    "tags": []
   },
   "outputs": [],
   "source": [
    "#Reshaping the data\n",
    "nsamples, nx, ny = X_train_scaled.shape\n",
    "X_train_dataset = X_train_scaled.reshape((nsamples,nx*ny))\n",
    "nsamples, nx, ny = X_test_scaled.shape\n",
    "X_test_dataset = X_test_scaled.reshape((nsamples,nx*ny))"
   ]
  },
  {
   "cell_type": "code",
   "execution_count": 8,
   "id": "91243f08-d82f-4856-9f13-519733bc7161",
   "metadata": {
    "execution": {
     "iopub.execute_input": "2022-03-28T18:31:07.424757Z",
     "iopub.status.busy": "2022-03-28T18:31:07.424224Z",
     "iopub.status.idle": "2022-03-28T18:31:07.451130Z",
     "shell.execute_reply": "2022-03-28T18:31:07.450182Z",
     "shell.execute_reply.started": "2022-03-28T18:31:07.424713Z"
    },
    "tags": []
   },
   "outputs": [],
   "source": [
    "##Neural network classifier\n",
    "#do something else with the labels: binarizing the labels (0 and 1s)\n",
    "y_train = LabelBinarizer().fit_transform(y_train) #fit data to dimensions of labels\n",
    "#then convert to 0 and 1s like above\n",
    "\n",
    "y_test = LabelBinarizer().fit_transform(y_test) #test data as well"
   ]
  },
  {
   "cell_type": "code",
   "execution_count": 9,
   "id": "b1e0e1d5-8b83-4f52-8fcb-232d99705b25",
   "metadata": {
    "execution": {
     "iopub.execute_input": "2022-03-28T18:31:18.038854Z",
     "iopub.status.busy": "2022-03-28T18:31:18.038354Z",
     "iopub.status.idle": "2022-03-28T18:34:24.371747Z",
     "shell.execute_reply": "2022-03-28T18:34:24.370642Z",
     "shell.execute_reply.started": "2022-03-28T18:31:18.038804Z"
    },
    "tags": []
   },
   "outputs": [
    {
     "name": "stdout",
     "output_type": "stream",
     "text": [
      "[INFO] training network...\n",
      "[INFO] NeuralNetwork: 1024-64-10\n",
      "[INFO] epoch=1, loss=20272.7981729\n",
      "[INFO] epoch=2, loss=19817.1165063\n",
      "[INFO] epoch=3, loss=19432.2171470\n",
      "[INFO] epoch=4, loss=19316.5163544\n",
      "[INFO] epoch=5, loss=19360.8190878\n",
      "[INFO] epoch=6, loss=19433.9274850\n",
      "[INFO] epoch=7, loss=19054.5265033\n",
      "[INFO] epoch=8, loss=19009.7720838\n",
      "[INFO] epoch=9, loss=19044.4753872\n",
      "[INFO] epoch=10, loss=18962.0911225\n"
     ]
    }
   ],
   "source": [
    "print(\"[INFO] training network...\") #feedback on what the model is doing\n",
    "input_shape = X_train_dataset.shape[1]\n",
    "nn = NeuralNetwork([input_shape, 64, 10]) #neural network, hidden layer of 64 nodes, \n",
    "#output layer of 10 (airplane etc.)\n",
    "#can add two hidden layers like input_shape, 128, 32, 10\n",
    "print(f\"[INFO] {nn}\")\n",
    "nn.fit(X_train_dataset, y_train, epochs=10, displayUpdate=1) #a full pass over dataset: getting update\n",
    "#after each epoch, the loss function gets lower and lower = learning every time\n",
    "#should be rapid fall then slower and slower"
   ]
  },
  {
   "cell_type": "code",
   "execution_count": 10,
   "id": "8a7a28a2-cbfd-49f2-be8a-f6392696430f",
   "metadata": {
    "execution": {
     "iopub.execute_input": "2022-03-28T18:34:29.793567Z",
     "iopub.status.busy": "2022-03-28T18:34:29.792943Z",
     "iopub.status.idle": "2022-03-28T18:34:30.078070Z",
     "shell.execute_reply": "2022-03-28T18:34:30.074878Z",
     "shell.execute_reply.started": "2022-03-28T18:34:29.793516Z"
    },
    "tags": []
   },
   "outputs": [],
   "source": [
    "predictions = nn.predict(X_test_dataset)"
   ]
  },
  {
   "cell_type": "code",
   "execution_count": 11,
   "id": "e5eead86-ec9a-43f3-a605-9ee14af1ebd8",
   "metadata": {
    "execution": {
     "iopub.execute_input": "2022-03-28T18:34:44.763784Z",
     "iopub.status.busy": "2022-03-28T18:34:44.763301Z",
     "iopub.status.idle": "2022-03-28T18:34:44.771122Z",
     "shell.execute_reply": "2022-03-28T18:34:44.770037Z",
     "shell.execute_reply.started": "2022-03-28T18:34:44.763736Z"
    },
    "tags": []
   },
   "outputs": [
    {
     "name": "stdout",
     "output_type": "stream",
     "text": [
      "Generating report...\n"
     ]
    }
   ],
   "source": [
    "labels = [\"airplane\", \"automobile\", \"bird\", \"cat\", \"deer\", \"dog\", \"frog\", \"horse\", \"ship\", \"truck\"] \n",
    "#labels from the webpage\n",
    "\n",
    "print(\"Generating report...\")"
   ]
  },
  {
   "cell_type": "code",
   "execution_count": 13,
   "id": "34a1ffaa-885f-4625-972e-b7cea08a2fe0",
   "metadata": {
    "execution": {
     "iopub.execute_input": "2022-03-28T18:35:12.259073Z",
     "iopub.status.busy": "2022-03-28T18:35:12.258580Z",
     "iopub.status.idle": "2022-03-28T18:35:12.298032Z",
     "shell.execute_reply": "2022-03-28T18:35:12.297364Z",
     "shell.execute_reply.started": "2022-03-28T18:35:12.259025Z"
    },
    "tags": []
   },
   "outputs": [
    {
     "name": "stdout",
     "output_type": "stream",
     "text": [
      "              precision    recall  f1-score   support\n",
      "\n",
      "    airplane       0.53      0.17      0.26      1000\n",
      "  automobile       0.34      0.59      0.43      1000\n",
      "        bird       0.27      0.34      0.30      1000\n",
      "         cat       0.29      0.25      0.27      1000\n",
      "        deer       0.27      0.40      0.32      1000\n",
      "         dog       0.38      0.28      0.32      1000\n",
      "        frog       0.42      0.24      0.31      1000\n",
      "       horse       0.41      0.48      0.44      1000\n",
      "        ship       0.45      0.42      0.43      1000\n",
      "       truck       0.47      0.44      0.45      1000\n",
      "\n",
      "    accuracy                           0.36     10000\n",
      "   macro avg       0.38      0.36      0.35     10000\n",
      "weighted avg       0.38      0.36      0.35     10000\n",
      "\n",
      "Done! Report has been generated and saved in the output folder as nn_report.txt\n"
     ]
    }
   ],
   "source": [
    "y_pred = predictions.argmax(axis=1)\n",
    "report = classification_report(y_test.argmax(axis=1), y_pred, target_names = labels)\n",
    "\n",
    "print(report)\n",
    "\n",
    "g = open(\"../../cds-visual/Assignments/output/nn_report.txt\",'w')\n",
    "print(report, file=g)\n",
    "\n",
    "print(\"Done! Report has been generated and saved in the output folder as nn_report.txt\")"
   ]
  }
 ],
 "metadata": {
  "kernelspec": {
   "display_name": "Python 3 ",
   "language": "python",
   "name": "python3"
  },
  "language_info": {
   "codemirror_mode": {
    "name": "ipython",
    "version": 3
   },
   "file_extension": ".py",
   "mimetype": "text/x-python",
   "name": "python",
   "nbconvert_exporter": "python",
   "pygments_lexer": "ipython3",
   "version": "3.9.6"
  }
 },
 "nbformat": 4,
 "nbformat_minor": 5
}
