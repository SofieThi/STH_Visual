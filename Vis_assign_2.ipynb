{
 "cells": [
  {
   "cell_type": "markdown",
   "id": "f95d29e8-965b-4207-9bcb-c3f7ab372be3",
   "metadata": {},
   "source": [
    "## Assignment 2 - Image classifier benchmark scripts"
   ]
  },
  {
   "cell_type": "markdown",
   "id": "370a2f22-0a26-4328-918d-0a78772b8fff",
   "metadata": {},
   "source": [
    "For this assignment, you will take the classifier pipelines we covered in lecture 7 and turn them into two separate .py scripts. Your code should do the following:\n",
    "\n",
    "One script should be called logistic_regression.py and should do the following:\n",
    "\n",
    "Load either the MNIST_784 data or the CIFAR_10 data\n",
    "\n",
    "Train a Logistic Regression model using scikit-learn\n",
    "\n",
    "Print the classification report to the terminal and save the classification report to out/lr_report.txt\n",
    "\n",
    "\n",
    "Another scripts should be called nn_classifier.py and should do the following:\n",
    "\n",
    "Load either the MNIST_784 data or the CIFAR_10 data\n",
    "\n",
    "Train a Neural Network model using the premade module in neuralnetwork.py\n",
    "\n",
    "Print output to the terminal during training showing epochs and loss\n",
    "\n",
    "Print the classification report to the terminal and save the classification report to out/nn_report.txt"
   ]
  },
  {
   "cell_type": "code",
   "execution_count": 3,
   "id": "dad967f8-9252-4b6b-86f0-60907c9778cb",
   "metadata": {
    "execution": {
     "iopub.execute_input": "2022-03-27T19:25:44.530018Z",
     "iopub.status.busy": "2022-03-27T19:25:44.529528Z",
     "iopub.status.idle": "2022-03-27T19:25:46.201118Z",
     "shell.execute_reply": "2022-03-27T19:25:46.200447Z",
     "shell.execute_reply.started": "2022-03-27T19:25:44.529967Z"
    },
    "tags": []
   },
   "outputs": [
    {
     "name": "stderr",
     "output_type": "stream",
     "text": [
      "2022-03-27 21:25:44.660764: W tensorflow/stream_executor/platform/default/dso_loader.cc:64] Could not load dynamic library 'libcudart.so.11.0'; dlerror: libcudart.so.11.0: cannot open shared object file: No such file or directory; LD_LIBRARY_PATH: /opt/conda/lib/python3.9/site-packages/cv2/../../lib64:\n",
      "2022-03-27 21:25:44.660811: I tensorflow/stream_executor/cuda/cudart_stub.cc:29] Ignore above cudart dlerror if you do not have a GPU set up on your machine.\n"
     ]
    }
   ],
   "source": [
    "# Import packages\n",
    "\n",
    "#session_6\n",
    "import os\n",
    "import sys\n",
    "sys.path.append(os.path.join(\"..\",\"..\",\"CDS-VIS\"))\n",
    "\n",
    "# Import teaching utils\n",
    "import numpy as np\n",
    "import utils.classifier_utils as clf_util\n",
    "\n",
    "# Import sklearn metrics\n",
    "from sklearn import metrics\n",
    "from sklearn.datasets import fetch_openml #database with pre-tagged datasets, see https://www.openml.org/\n",
    "from sklearn.model_selection import train_test_split\n",
    "from sklearn.linear_model import LogisticRegression #classifier\n",
    "from sklearn.metrics import accuracy_score #calculating accuracy\n",
    "\n",
    "#session_7\n",
    "# path tools\n",
    "import sys,os\n",
    "sys.path.append(os.path.join(\"..\", \"..\", \"CDS-VIS\"))\n",
    "\n",
    "# image processing\n",
    "import cv2\n",
    "\n",
    "# neural networks with numpy\n",
    "import numpy as np\n",
    "from tensorflow.keras.datasets import cifar10 #getting access to complex tools\n",
    "# cifar10: very famous dataset with low res images for training (0 is airplane) \n",
    "# https://keras.io/api/datasets/cifar10/ (32, 32, 3) 32x32 3 color channels\n",
    "from utils.neuralnetwork import NeuralNetwork #Ross has written it see utils\n",
    "\n",
    "# machine learning tools\n",
    "from sklearn.preprocessing import LabelBinarizer\n",
    "from sklearn.model_selection import train_test_split\n",
    "from sklearn.metrics import classification_report\n",
    "from sklearn.linear_model import LogisticRegression"
   ]
  },
  {
   "cell_type": "code",
   "execution_count": null,
   "id": "14f17dae-ece8-4cbd-b39d-60154c254099",
   "metadata": {},
   "outputs": [],
   "source": [
    "#from + terminal\n",
    "# its not in setup currently\n",
    "# pip install tensorflow"
   ]
  },
  {
   "cell_type": "markdown",
   "id": "32662dfc-fb1d-40b6-ba13-4d8afcc21e07",
   "metadata": {},
   "source": [
    "### Train a Logistic Regression model using scikit-learn"
   ]
  },
  {
   "cell_type": "code",
   "execution_count": 5,
   "id": "af6e204b-4cdb-43bd-9a68-b71bcd839247",
   "metadata": {
    "execution": {
     "iopub.execute_input": "2022-03-27T19:27:10.233911Z",
     "iopub.status.busy": "2022-03-27T19:27:10.233788Z",
     "iopub.status.idle": "2022-03-27T19:27:10.831554Z",
     "shell.execute_reply": "2022-03-27T19:27:10.830911Z",
     "shell.execute_reply.started": "2022-03-27T19:27:10.233897Z"
    },
    "tags": []
   },
   "outputs": [
    {
     "name": "stdout",
     "output_type": "stream",
     "text": [
      "CIFAR_10 data is being loaded - Please Wait...\n",
      "CIFAR_10 data has been loaded successfully\n"
     ]
    }
   ],
   "source": [
    "#Loading CIFAR_10\n",
    "#Printing to terminal\n",
    "print(\"CIFAR_10 data is being loaded - Please Wait...\")\n",
    "\n",
    "(X_train, y_train), (X_test, y_test) = cifar10.load_data() #Splitting data up into train and test data. \n",
    "\n",
    "print(\"CIFAR_10 data has been loaded successfully\")"
   ]
  },
  {
   "cell_type": "code",
   "execution_count": 7,
   "id": "7e3db057-b38a-4310-8000-5d5df21fcca1",
   "metadata": {
    "execution": {
     "iopub.execute_input": "2022-03-27T19:27:17.404464Z",
     "iopub.status.busy": "2022-03-27T19:27:17.404148Z",
     "iopub.status.idle": "2022-03-27T19:27:17.996709Z",
     "shell.execute_reply": "2022-03-27T19:27:17.996002Z",
     "shell.execute_reply.started": "2022-03-27T19:27:17.404442Z"
    },
    "tags": []
   },
   "outputs": [],
   "source": [
    "#Convert all the data to greyscale\n",
    "X_train_grey = np.array([cv2.cvtColor(image, cv2.COLOR_BGR2GRAY) for image in X_train])\n",
    "X_test_grey = np.array([cv2.cvtColor(image, cv2.COLOR_BGR2GRAY) for image in X_test])"
   ]
  },
  {
   "cell_type": "code",
   "execution_count": 9,
   "id": "36d01866-e0dd-4967-86ea-46572bab3385",
   "metadata": {
    "execution": {
     "iopub.execute_input": "2022-03-27T19:27:48.709474Z",
     "iopub.status.busy": "2022-03-27T19:27:48.709002Z",
     "iopub.status.idle": "2022-03-27T19:27:49.025296Z",
     "shell.execute_reply": "2022-03-27T19:27:49.024464Z",
     "shell.execute_reply.started": "2022-03-27T19:27:48.709423Z"
    },
    "tags": []
   },
   "outputs": [],
   "source": [
    "#Normalize the values\n",
    "#min/max normalization: X1 = X(array)-Xmin (minimum value in array)/Xmax-Xmin\n",
    "# function that performs min/max\n",
    "def minmax(data):\n",
    "    X_norm = (data - data.min())/(data.max() - data.min())\n",
    "    return X_norm\n",
    "\n",
    "X_train_scaled = minmax(X_train_grey)\n",
    "X_test_scaled = minmax(X_test_grey)"
   ]
  },
  {
   "cell_type": "code",
   "execution_count": 10,
   "id": "1b195b26-3acd-4ee7-898e-b5c3bf8a1be0",
   "metadata": {
    "execution": {
     "iopub.execute_input": "2022-03-27T19:28:07.183584Z",
     "iopub.status.busy": "2022-03-27T19:28:07.183003Z",
     "iopub.status.idle": "2022-03-27T19:28:07.190633Z",
     "shell.execute_reply": "2022-03-27T19:28:07.189306Z",
     "shell.execute_reply.started": "2022-03-27T19:28:07.183537Z"
    }
   },
   "outputs": [],
   "source": [
    "#Reshaping the data\n",
    "nsamples, nx, ny = X_train_scaled.shape\n",
    "X_train_dataset = X_train_scaled.reshape((nsamples,nx*ny))\n",
    "\n",
    "nsamples, nx, ny = X_test_scaled.shape\n",
    "X_test_dataset = X_test_scaled.reshape((nsamples,nx*ny))"
   ]
  },
  {
   "cell_type": "code",
   "execution_count": 12,
   "id": "ed944ca6-1639-49f2-872c-948f2b66278c",
   "metadata": {
    "execution": {
     "iopub.execute_input": "2022-03-27T19:28:28.088935Z",
     "iopub.status.busy": "2022-03-27T19:28:28.088799Z",
     "iopub.status.idle": "2022-03-27T19:28:39.051367Z",
     "shell.execute_reply": "2022-03-27T19:28:39.050503Z",
     "shell.execute_reply.started": "2022-03-27T19:28:28.088919Z"
    },
    "tags": []
   },
   "outputs": [
    {
     "name": "stderr",
     "output_type": "stream",
     "text": [
      "/opt/conda/lib/python3.9/site-packages/sklearn/utils/validation.py:993: DataConversionWarning: A column-vector y was passed when a 1d array was expected. Please change the shape of y to (n_samples, ), for example using ravel().\n",
      "  y = column_or_1d(y, warn=True)\n"
     ]
    }
   ],
   "source": [
    "##Simple logistic regression classifier\n",
    "#Train a Logistic Regression model using scikit-learn\n",
    "clf = LogisticRegression(penalty='none', \n",
    "                         tol=0.1, \n",
    "                         solver='saga',\n",
    "                         multi_class='multinomial').fit(X_train_dataset, y_train)"
   ]
  },
  {
   "cell_type": "code",
   "execution_count": 14,
   "id": "1eac199c-df34-4d30-971b-6a506ebfb599",
   "metadata": {
    "execution": {
     "iopub.execute_input": "2022-03-27T19:28:50.555778Z",
     "iopub.status.busy": "2022-03-27T19:28:50.555143Z",
     "iopub.status.idle": "2022-03-27T19:28:50.583499Z",
     "shell.execute_reply": "2022-03-27T19:28:50.581517Z",
     "shell.execute_reply.started": "2022-03-27T19:28:50.555725Z"
    },
    "tags": []
   },
   "outputs": [],
   "source": [
    "##Get predictions and make classification report\n",
    "y_pred = clf.predict(X_test_dataset)\n",
    "\n",
    "#labels from the CIFAR homepage\n",
    "labels = [\"airplane\", \"automobile\", \"bird\", \"cat\", \"deer\", \"dog\", \"frog\", \"horse\", \"ship\", \"truck\"]"
   ]
  },
  {
   "cell_type": "code",
   "execution_count": 25,
   "id": "0bd41c7e-d1a4-434c-8b64-ddaf32d6b247",
   "metadata": {
    "execution": {
     "iopub.execute_input": "2022-03-27T19:43:37.912026Z",
     "iopub.status.busy": "2022-03-27T19:43:37.911516Z",
     "iopub.status.idle": "2022-03-27T19:43:37.989391Z",
     "shell.execute_reply": "2022-03-27T19:43:37.988106Z",
     "shell.execute_reply.started": "2022-03-27T19:43:37.911980Z"
    },
    "tags": []
   },
   "outputs": [
    {
     "name": "stdout",
     "output_type": "stream",
     "text": [
      "              precision    recall  f1-score   support\n",
      "\n",
      "    airplane       0.37      0.33      0.35      1000\n",
      "  automobile       0.37      0.38      0.37      1000\n",
      "        bird       0.30      0.15      0.20      1000\n",
      "         cat       0.23      0.14      0.17      1000\n",
      "        deer       0.23      0.31      0.27      1000\n",
      "         dog       0.32      0.28      0.30      1000\n",
      "        frog       0.30      0.31      0.30      1000\n",
      "       horse       0.31      0.31      0.31      1000\n",
      "        ship       0.31      0.50      0.38      1000\n",
      "       truck       0.41      0.43      0.42      1000\n",
      "\n",
      "    accuracy                           0.31     10000\n",
      "   macro avg       0.31      0.31      0.31     10000\n",
      "weighted avg       0.31      0.31      0.31     10000\n",
      "\n",
      "Done! Report has been generated and saved in the output folder as lr_report.txt\n"
     ]
    }
   ],
   "source": [
    "report = classification_report(y_test, y_pred, target_names = labels) #getting airplane etc that we defined with labels\n",
    "print(report)\n",
    "\n",
    "f = open(\"../../cds-visual/Assignments/output/lr_report.txt\",'w') #saving in this folder as lr_report.txt\n",
    "print(report, file=f)\n",
    "\n",
    "print(\"Done! Report has been generated and saved in the output folder as lr_report.txt\")"
   ]
  }
 ],
 "metadata": {
  "kernelspec": {
   "display_name": "Python 3 ",
   "language": "python",
   "name": "python3"
  },
  "language_info": {
   "codemirror_mode": {
    "name": "ipython",
    "version": 3
   },
   "file_extension": ".py",
   "mimetype": "text/x-python",
   "name": "python",
   "nbconvert_exporter": "python",
   "pygments_lexer": "ipython3",
   "version": "3.9.6"
  }
 },
 "nbformat": 4,
 "nbformat_minor": 5
}
